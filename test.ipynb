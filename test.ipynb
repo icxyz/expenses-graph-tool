{
 "cells": [
  {
   "metadata": {},
   "cell_type": "markdown",
   "source": "#### Imports",
   "id": "3933963b4950bc04"
  },
  {
   "metadata": {
    "ExecuteTime": {
     "end_time": "2024-07-22T19:58:24.316405Z",
     "start_time": "2024-07-22T19:58:23.797063Z"
    }
   },
   "cell_type": "code",
   "source": [
    "import numpy\n",
    "import pandas as panda\n",
    "import matplotlib.pyplot as plot\n",
    "import calendar \n",
    "from datetime import datetime\n",
    "from collections import defaultdict\n",
    "from matplotlib.ticker import FuncFormatter\n"
   ],
   "id": "5d79dd23e09a80fe",
   "outputs": [],
   "execution_count": 2
  },
  {
   "metadata": {},
   "cell_type": "markdown",
   "source": "#### Days in the current month",
   "id": "92a6459f970b5c70"
  },
  {
   "metadata": {
    "ExecuteTime": {
     "end_time": "2024-07-22T19:58:26.080029Z",
     "start_time": "2024-07-22T19:58:26.077444Z"
    }
   },
   "cell_type": "code",
   "source": [
    "# Get the current year and month and time\n",
    "current_date = datetime.now()\n",
    "current_year = current_date.year\n",
    "current_month = current_date.month\n",
    "\n",
    "# Extract the current month's name\n",
    "current_month_name = current_date.strftime(\"%B\")\n",
    "\n",
    "# Get the number of days in the current month\n",
    "_, daysInCurrentMonth = calendar.monthrange(current_year, current_month)\n",
    "\n",
    "print(f\"The current month is {current_month_name} and it has {daysInCurrentMonth} days.\")\n"
   ],
   "id": "4abedabc89950834",
   "outputs": [
    {
     "name": "stdout",
     "output_type": "stream",
     "text": [
      "The current month is July and it has 31 days.\n"
     ]
    }
   ],
   "execution_count": 3
  },
  {
   "metadata": {},
   "cell_type": "markdown",
   "source": "#### Data handling",
   "id": "459fa23777ee4103"
  },
  {
   "metadata": {
    "ExecuteTime": {
     "end_time": "2024-07-22T20:00:38.098127Z",
     "start_time": "2024-07-22T20:00:38.062828Z"
    }
   },
   "cell_type": "code",
   "source": [
    "# read the ods file\n",
    "ods_data = panda.read_excel('~/Downloads/data.ods', sheet_name='main', engine='odf')\n",
    "\n",
    "# extract the data from the columns in the ods file\n",
    "expenses = ods_data['Betrag'].dropna().abs()\n",
    "dates = ods_data['date'].dropna()\n",
    "\n",
    "# conver them into a list\n",
    "expenses = expenses.values.tolist()\n",
    "dates = dates.values.tolist()\n",
    "\n",
    "'''\n",
    "# create a boolean mask whether a value is nan\n",
    "boolean_mask = ~numpy.isnan(expenses)\n",
    "\n",
    "# remove any value that is nan\n",
    "expenses = [ exp for exp, valid in zip(expenses, boolean_mask) if valid ]\n",
    "dates = [ date for date, valid in zip(dates, boolean_mask) if valid ]\n",
    "'''\n",
    "\n",
    "# day-month-year instead of day.month.year\n",
    "dates = [ str(date.replace('.', '-')) for date in dates ]\n",
    "\n",
    "'''\n",
    "# make all values positive in expenses\n",
    "expenses = [ abs(value) for value in expenses ]\n",
    "'''\n",
    "\n",
    "# create a dictionary with the pair (key, value) over tuple(key : value)\n",
    "date_expense_dict = { (date, expense) for date, expense in zip(dates, expenses) }\n",
    "\n",
    "# takes a list and returns one which is sorted, rounded and without any redundancy\n",
    "def aggregate_expenses(dates_expenses):\n",
    "    # Initialize a default dictionary to store the aggregated expenses\n",
    "    expenses_dict = defaultdict(float)\n",
    "    \n",
    "    # Iterate through the list of date-expense pairs\n",
    "    for date, expense in dates_expenses:\n",
    "        # Aggregate the expenses for each date\n",
    "        expenses_dict[date] += expense\n",
    "    \n",
    "    # round the expenses\n",
    "    rounded_expenses = { \n",
    "        date : round(expense, 4) for date, expense in expenses_dict.items() \n",
    "    }\n",
    "    \n",
    "    # 'key' is executed before any sorting; takes x which is a tuple(key, value), gets the date with x[0] and converts it into a datetime object\n",
    "    sorted_expenses = dict(sorted(rounded_expenses.items(), key=lambda x: datetime.strptime(x[0], \"%d-%m-%y\")))\n",
    "    \n",
    "    return sorted_expenses\n",
    "\n",
    "date_expense_dict = aggregate_expenses(date_expense_dict)\n",
    "\n",
    "print(date_expense_dict)\n"
   ],
   "id": "6687f124ead020ea",
   "outputs": [
    {
     "name": "stdout",
     "output_type": "stream",
     "text": [
      "{'20-06-24': 1.9, '21-06-24': 2.93, '24-06-24': 4.98, '25-06-24': 0.99, '26-06-24': 0.99, '27-06-24': 9.72, '28-06-24': 3.51, '01-07-24': 0.99, '02-07-24': 3.59, '03-07-24': 4.58, '04-07-24': 7.61, '05-07-24': 12.14, '08-07-24': 5.29, '12-07-24': 6.62, '15-07-24': 5.78, '18-07-24': 1.94}\n"
     ]
    }
   ],
   "execution_count": 8
  },
  {
   "metadata": {},
   "cell_type": "markdown",
   "source": "#### Dataframe",
   "id": "bfbf94a6e9accd79"
  },
  {
   "metadata": {
    "ExecuteTime": {
     "end_time": "2024-07-22T20:00:40.691027Z",
     "start_time": "2024-07-22T20:00:40.685617Z"
    }
   },
   "cell_type": "code",
   "source": [
    "# creates the dataframe with the give columns\n",
    "dataframe = panda.DataFrame(list(date_expense_dict.items()), columns=['date', 'expenses'])\n",
    "\n",
    "dataframe"
   ],
   "id": "b6da8a14f962f65c",
   "outputs": [
    {
     "data": {
      "text/plain": [
       "        date  expenses\n",
       "0   20-06-24      1.90\n",
       "1   21-06-24      2.93\n",
       "2   24-06-24      4.98\n",
       "3   25-06-24      0.99\n",
       "4   26-06-24      0.99\n",
       "5   27-06-24      9.72\n",
       "6   28-06-24      3.51\n",
       "7   01-07-24      0.99\n",
       "8   02-07-24      3.59\n",
       "9   03-07-24      4.58\n",
       "10  04-07-24      7.61\n",
       "11  05-07-24     12.14\n",
       "12  08-07-24      5.29\n",
       "13  12-07-24      6.62\n",
       "14  15-07-24      5.78\n",
       "15  18-07-24      1.94"
      ],
      "text/html": [
       "<div>\n",
       "<style scoped>\n",
       "    .dataframe tbody tr th:only-of-type {\n",
       "        vertical-align: middle;\n",
       "    }\n",
       "\n",
       "    .dataframe tbody tr th {\n",
       "        vertical-align: top;\n",
       "    }\n",
       "\n",
       "    .dataframe thead th {\n",
       "        text-align: right;\n",
       "    }\n",
       "</style>\n",
       "<table border=\"1\" class=\"dataframe\">\n",
       "  <thead>\n",
       "    <tr style=\"text-align: right;\">\n",
       "      <th></th>\n",
       "      <th>date</th>\n",
       "      <th>expenses</th>\n",
       "    </tr>\n",
       "  </thead>\n",
       "  <tbody>\n",
       "    <tr>\n",
       "      <th>0</th>\n",
       "      <td>20-06-24</td>\n",
       "      <td>1.90</td>\n",
       "    </tr>\n",
       "    <tr>\n",
       "      <th>1</th>\n",
       "      <td>21-06-24</td>\n",
       "      <td>2.93</td>\n",
       "    </tr>\n",
       "    <tr>\n",
       "      <th>2</th>\n",
       "      <td>24-06-24</td>\n",
       "      <td>4.98</td>\n",
       "    </tr>\n",
       "    <tr>\n",
       "      <th>3</th>\n",
       "      <td>25-06-24</td>\n",
       "      <td>0.99</td>\n",
       "    </tr>\n",
       "    <tr>\n",
       "      <th>4</th>\n",
       "      <td>26-06-24</td>\n",
       "      <td>0.99</td>\n",
       "    </tr>\n",
       "    <tr>\n",
       "      <th>5</th>\n",
       "      <td>27-06-24</td>\n",
       "      <td>9.72</td>\n",
       "    </tr>\n",
       "    <tr>\n",
       "      <th>6</th>\n",
       "      <td>28-06-24</td>\n",
       "      <td>3.51</td>\n",
       "    </tr>\n",
       "    <tr>\n",
       "      <th>7</th>\n",
       "      <td>01-07-24</td>\n",
       "      <td>0.99</td>\n",
       "    </tr>\n",
       "    <tr>\n",
       "      <th>8</th>\n",
       "      <td>02-07-24</td>\n",
       "      <td>3.59</td>\n",
       "    </tr>\n",
       "    <tr>\n",
       "      <th>9</th>\n",
       "      <td>03-07-24</td>\n",
       "      <td>4.58</td>\n",
       "    </tr>\n",
       "    <tr>\n",
       "      <th>10</th>\n",
       "      <td>04-07-24</td>\n",
       "      <td>7.61</td>\n",
       "    </tr>\n",
       "    <tr>\n",
       "      <th>11</th>\n",
       "      <td>05-07-24</td>\n",
       "      <td>12.14</td>\n",
       "    </tr>\n",
       "    <tr>\n",
       "      <th>12</th>\n",
       "      <td>08-07-24</td>\n",
       "      <td>5.29</td>\n",
       "    </tr>\n",
       "    <tr>\n",
       "      <th>13</th>\n",
       "      <td>12-07-24</td>\n",
       "      <td>6.62</td>\n",
       "    </tr>\n",
       "    <tr>\n",
       "      <th>14</th>\n",
       "      <td>15-07-24</td>\n",
       "      <td>5.78</td>\n",
       "    </tr>\n",
       "    <tr>\n",
       "      <th>15</th>\n",
       "      <td>18-07-24</td>\n",
       "      <td>1.94</td>\n",
       "    </tr>\n",
       "  </tbody>\n",
       "</table>\n",
       "</div>"
      ]
     },
     "execution_count": 9,
     "metadata": {},
     "output_type": "execute_result"
    }
   ],
   "execution_count": 9
  },
  {
   "metadata": {
    "ExecuteTime": {
     "end_time": "2024-07-22T20:00:41.768896Z",
     "start_time": "2024-07-22T20:00:41.766212Z"
    }
   },
   "cell_type": "code",
   "source": [
    "# calculates the average\n",
    "average = numpy.mean(dataframe['expenses'])"
   ],
   "id": "905beafe4215a55d",
   "outputs": [],
   "execution_count": 10
  },
  {
   "metadata": {},
   "cell_type": "markdown",
   "source": [
    "#### Graph\n",
    "Displays the graph with the given data and the current month"
   ],
   "id": "d61c7ba7a49041f9"
  },
  {
   "metadata": {
    "ExecuteTime": {
     "end_time": "2024-07-22T20:00:42.902753Z",
     "start_time": "2024-07-22T20:00:42.733177Z"
    }
   },
   "cell_type": "code",
   "source": [
    "# Changes the size of the bars inside the plot\n",
    "plot.figure(figsize=(14, 8))\n",
    "\n",
    "# data of the x-axis/bar value is assigned as they need to be identical\n",
    "xdata = dataframe['expenses']\n",
    "\n",
    "# stores the bars inside the variable: how many, the actual values\n",
    "bars = plot.bar(range(len(dataframe['expenses'])), xdata)\n",
    "\n",
    "# creates the bars inside the diagram\n",
    "plot.bar(dataframe['date'], xdata, color='skyblue')\n",
    "\n",
    "# x: value of tick on an axis; pos: where the tick is located\n",
    "def currency_formatter(x, pos):\n",
    "    return f'{x:.0f}€'\n",
    "\n",
    "# get current axes (gca)\n",
    "plot.gca().yaxis.set_major_formatter(FuncFormatter(currency_formatter))\n",
    "\n",
    "for bar in bars:\n",
    "    y_axis_value = bar.get_height() # get the y-axis height which corresponds with the y value\n",
    "    # adds text annotation to the bar; left edge + center = center, y, value \n",
    "    plot.text(bar.get_x() + bar.get_width()/2, y_axis_value, f'{y_axis_value:.2f}€', ha='center', va='bottom')\n",
    "\n",
    "# change the x and y-bar label font size\n",
    "plot.tick_params(axis='both', labelsize=11)\n",
    "\n",
    "# axis Labels, font size and distance to the x bar labels\n",
    "plot.xlabel('Datum', fontsize=13, labelpad=15)\n",
    "plot.ylabel('Ausgaben', fontsize=13, labelpad=11)\n",
    "\n",
    "# Title\n",
    "plot.title(f'Ausgaben {current_month_name}', fontsize=15)\n",
    "\n",
    "# Rotate the x bar labels by 22.5 degree\n",
    "plot.xticks(rotation=22.5)\n",
    "\n",
    "#y: where to line will be drawn\n",
    "plot.axhline(y=average, color='red', linestyle='-', label=f'Average: {average:.2f}€')\n",
    "\n",
    "# \n",
    "plot.tight_layout()\n",
    "\n",
    "# displays a legend\n",
    "plot.legend()\n",
    "\n",
    "# Shows the plot\n",
    "plot.show()\n"
   ],
   "id": "ec39bcb42be82a7c",
   "outputs": [
    {
     "data": {
      "text/plain": [
       "<Figure size 1400x800 with 1 Axes>"
      ],
      "image/png": "[encoded data removed]"
     },
     "metadata": {},
     "output_type": "display_data"
    }
   ],
   "execution_count": 11
  },
  {
   "metadata": {
    "ExecuteTime": {
     "end_time": "2024-07-21T22:05:10.505987Z",
     "start_time": "2024-07-21T22:05:10.503540Z"
    }
   },
   "cell_type": "code",
   "source": "print('Summe aller monatlichen Ausgaben: ' + str(dataframe['expenses'].sum()))",
   "id": "8d69accf8705f469",
   "outputs": [
    {
     "name": "stdout",
     "output_type": "stream",
     "text": [
      "Summe aller monatlichen Ausgaben: 73.56\n"
     ]
    }
   ],
   "execution_count": 87
  },
  {
   "metadata": {},
   "cell_type": "markdown",
   "source": "#### Get all the days in a month exercise",
   "id": "4af6526108d1633d"
  },
  {
   "metadata": {
    "ExecuteTime": {
     "end_time": "2024-07-21T22:05:10.518793Z",
     "start_time": "2024-07-21T22:05:10.506877Z"
    }
   },
   "cell_type": "code",
   "source": [
    "# Initializations\n",
    "i: int = 1\n",
    "dates = []\n",
    "\n",
    "# Create an array for the days of the month\n",
    "while i <= daysInCurrentMonth:\n",
    "    dates.append(f'{i}-{current_date.strftime(\"%m-%Y\")}')\n",
    "    i += 1\n",
    "    "
   ],
   "id": "eeb5b4a2204f615d",
   "outputs": [],
   "execution_count": 88
  },
  {
   "metadata": {},
   "cell_type": "markdown",
   "source": "#### User Input Exercise",
   "id": "98f47b0cea6c5868"
  },
  {
   "metadata": {
    "ExecuteTime": {
     "end_time": "2024-07-21T22:05:10.529031Z",
     "start_time": "2024-07-21T22:05:10.519386Z"
    }
   },
   "cell_type": "code",
   "source": [
    "'''\n",
    "import sys\n",
    "\n",
    "from IPython.core.display_functions import clear_output\n",
    "\n",
    "userinput: str = ''\n",
    "spendingdata: list[float] = []\n",
    "\n",
    "\n",
    "#\n",
    "def getspendings() -> str:\n",
    "    global spendingdata\n",
    "    global userinput\n",
    "\n",
    "    # Get the user input\n",
    "    userinput = input('Gebe deine Ausgaben ein: ')\n",
    "\n",
    "    if userinput == 'end':\n",
    "        return userinput\n",
    "    else:\n",
    "        # try to int conversion\n",
    "        try:\n",
    "            userinput = float(userinput)\n",
    "        except ValueError:\n",
    "            clear_output(wait=True)\n",
    "            print('Please make sure the input is a number!')\n",
    "            sys.exit(1)\n",
    "\n",
    "    # validate the input\n",
    "    if type(userinput) is float:\n",
    "        \n",
    "        if daysInCurrentMonth <= len(spendingdata):\n",
    "            print('Done!')\n",
    "            return 'end'\n",
    "        \n",
    "        spendingdata.append(userinput)\n",
    "        print(f'Appended {userinput}')\n",
    "\n",
    "        return userinput\n",
    "    else:\n",
    "        clear_output(wait=True)\n",
    "        print('Something went wrong!')\n",
    "        sys.exit(1)\n",
    "\n",
    "\n",
    "while userinput != 'end':\n",
    "    userinput = getspendings()\n",
    "'''"
   ],
   "id": "4b059652571bc190",
   "outputs": [
    {
     "data": {
      "text/plain": [
       "\"\\nimport sys\\n\\nfrom IPython.core.display_functions import clear_output\\n\\nuserinput: str = ''\\nspendingdata: list[float] = []\\n\\n\\n#\\ndef getspendings() -> str:\\n    global spendingdata\\n    global userinput\\n\\n    # Get the user input\\n    userinput = input('Gebe deine Ausgaben ein: ')\\n\\n    if userinput == 'end':\\n        return userinput\\n    else:\\n        # try to int conversion\\n        try:\\n            userinput = float(userinput)\\n        except ValueError:\\n            clear_output(wait=True)\\n            print('Please make sure the input is a number!')\\n            sys.exit(1)\\n\\n    # validate the input\\n    if type(userinput) is float:\\n        \\n        if daysInCurrentMonth <= len(spendingdata):\\n            print('Done!')\\n            return 'end'\\n        \\n        spendingdata.append(userinput)\\n        print(f'Appended {userinput}')\\n\\n        return userinput\\n    else:\\n        clear_output(wait=True)\\n        print('Something went wrong!')\\n        sys.exit(1)\\n\\n\\nwhile userinput != 'end':\\n    userinput = getspendings()\\n\""
      ]
     },
     "execution_count": 89,
     "metadata": {},
     "output_type": "execute_result"
    }
   ],
   "execution_count": 89
  },
  {
   "metadata": {
    "ExecuteTime": {
     "end_time": "2024-07-21T22:05:10.531157Z",
     "start_time": "2024-07-21T22:05:10.529677Z"
    }
   },
   "cell_type": "code",
   "source": "",
   "id": "f9345549cbe383bb",
   "outputs": [],
   "execution_count": 89
  }
 ],
 "metadata": {
  "kernelspec": {
   "display_name": "Python 3",
   "language": "python",
   "name": "python3"
  },
  "language_info": {
   "codemirror_mode": {
    "name": "ipython",
    "version": 2
   },
   "file_extension": ".py",
   "mimetype": "text/x-python",
   "name": "python",
   "nbconvert_exporter": "python",
   "pygments_lexer": "ipython2",
   "version": "2.7.6"
  }
 },
 "nbformat": 4,
 "nbformat_minor": 5
}
