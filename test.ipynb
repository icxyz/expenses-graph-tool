{
 "cells": [
  {
   "metadata": {},
   "cell_type": "markdown",
   "source": "#### Imports",
   "id": "3933963b4950bc04"
  },
  {
   "metadata": {
    "ExecuteTime": {
     "end_time": "2024-07-29T20:39:17.738407Z",
     "start_time": "2024-07-29T20:39:17.735245Z"
    }
   },
   "cell_type": "code",
   "source": [
    "import numpy\n",
    "import os\n",
    "import pandas as panda\n",
    "\n",
    "import matplotlib.pyplot as plot\n",
    "from matplotlib.ticker import FuncFormatter\n",
    "\n",
    "import calendar \n",
    "from datetime import datetime\n",
    "from collections import defaultdict, Counter\n",
    "\n",
    "from odf.opendocument import load\n",
    "from odf.table import Table\n"
   ],
   "id": "5d79dd23e09a80fe",
   "outputs": [],
   "execution_count": 114
  },
  {
   "metadata": {},
   "cell_type": "markdown",
   "source": "#### Days in the current month",
   "id": "92a6459f970b5c70"
  },
  {
   "metadata": {},
   "cell_type": "code",
   "source": [
    "# Get the current year and month and time\n",
    "current_date = datetime.now()\n",
    "current_year = current_date.year\n",
    "current_month = current_date.month\n",
    "\n",
    "# Extract the current month's name\n",
    "current_month_name = current_date.strftime(\"%B\")\n",
    "\n",
    "# Get the number of days in the current month\n",
    "_, daysInCurrentMonth = calendar.monthrange(current_year, current_month)\n",
    "\n",
    "print(f\"The current month is {current_month_name} and it has {daysInCurrentMonth} days.\")\n"
   ],
   "id": "4abedabc89950834",
   "outputs": [],
   "execution_count": null
  },
  {
   "metadata": {},
   "cell_type": "markdown",
   "source": "#### Data handling",
   "id": "459fa23777ee4103"
  },
  {
   "metadata": {},
   "cell_type": "code",
   "source": [
    "ods_file_path = os.path.expanduser('~/Downloads/data.ods')\n",
    "\n",
    "if not os.path.isfile(ods_file_path):\n",
    "    print(\"File not found: \", ods_file_path)\n",
    "\n",
    "ods_file = load(ods_file_path)\n",
    "\n",
    "# Get all tables\n",
    "sheets = ods_file.getElementsByType(Table)\n",
    "num_sheets = len(sheets)\n",
    "\n",
    "if num_sheets == 0:\n",
    "    print(\"No sheets found in the document.\")\n",
    "    exit(0)\n",
    "    \n",
    "sheet_name = sheets[0].getAttribute(\"name\")\n",
    "\n",
    "# read the ods file\n",
    "ods_data = panda.read_excel(ods_file_path, sheet_name=sheet_name, engine='odf')\n",
    "\n",
    "# extract the data from the columns in the ods file and convert them into a list\n",
    "expenses = ods_data['value'].dropna().abs().values.tolist()\n",
    "dates = ods_data['date'].dropna().values.tolist()\n",
    "\n",
    "# day-month-year instead of day.month.year\n",
    "dates = [ date.replace('.', '-') for date in dates ]\n",
    "\n",
    "# convert them into datetime objects and inverse\n",
    "dates = [ datetime.strptime(date, '%d-%m-%Y').date().strftime('%d-%m-%y') for date in dates ]\n",
    "\n",
    "# create a dictionary with the pair (key, value) over tuple(key : value)\n",
    "date_expense_dict = { (date, expense) for date, expense in zip(dates, expenses) }\n",
    "\n",
    "# takes a list and returns one which is sorted, rounded and without any redundancy\n",
    "def aggregate_expenses(dates_expenses):\n",
    "    # Initialize a default dictionary to store the aggregated expenses\n",
    "    expenses_dict = defaultdict(float)\n",
    "    \n",
    "    # Iterate through the list of date-expense pairs\n",
    "    for date, expense in dates_expenses:\n",
    "        # Aggregate the expenses for each date\n",
    "        expenses_dict[date] += expense\n",
    "    \n",
    "    # round the expenses\n",
    "    rounded_expenses = { \n",
    "        date : round(expense, 4) for date, expense in expenses_dict.items() \n",
    "    }\n",
    "    \n",
    "    # 'key' is executed before any sorting takes place; take x which is a tuple (key, value), get the date with x[0] and convert it into a datetime object\n",
    "    sorted_expenses = dict(sorted(rounded_expenses.items(), key=lambda x: datetime.strptime(x[0], \"%d-%m-%y\")))\n",
    "    \n",
    "    return sorted_expenses\n",
    "\n",
    "date_expense_dict = aggregate_expenses(date_expense_dict)\n",
    "\n",
    "print(date_expense_dict)\n"
   ],
   "id": "6687f124ead020ea",
   "outputs": [],
   "execution_count": null
  },
  {
   "metadata": {
    "ExecuteTime": {
     "end_time": "2024-07-29T21:46:45.106602Z",
     "start_time": "2024-07-29T21:46:45.103183Z"
    }
   },
   "cell_type": "code",
   "source": [
    "#\n",
    "get_month = lambda x : datetime.strptime(x, \"%d-%m-%y\").date().month\n",
    "\n",
    "#\n",
    "months_in_dict = [ str(get_month(date)) for date in date_expense_dict ]\n",
    "\n",
    "#\n",
    "months_in_dict_as_list = list(Counter(months))"
   ],
   "id": "51ba41ded6dbb1c6",
   "outputs": [],
   "execution_count": 241
  },
  {
   "metadata": {
    "ExecuteTime": {
     "end_time": "2024-07-29T21:46:46.493816Z",
     "start_time": "2024-07-29T21:46:46.489785Z"
    }
   },
   "cell_type": "code",
   "source": [
    "#\n",
    "def group_expenses_by_month(dictionary):\n",
    "    #\n",
    "    new_dict = defaultdict(float)\n",
    "    \n",
    "    #\n",
    "    for date, expense in dictionary.items():\n",
    "        \n",
    "        month = '0' + str(get_month(date))\n",
    "        \n",
    "        if month in months_in_dict_as_list:\n",
    "            new_dict[date[3:]] += float(f'{expense:.2f}')\n",
    "    \n",
    "    return dict(new_dict)\n",
    "\n",
    "date_expense_dict = group_expenses_by_month(date_expense_dict)\n"
   ],
   "id": "746f8d3ad376a400",
   "outputs": [],
   "execution_count": 242
  },
  {
   "metadata": {},
   "cell_type": "markdown",
   "source": "#### Dataframe",
   "id": "bfbf94a6e9accd79"
  },
  {
   "metadata": {},
   "cell_type": "code",
   "source": [
    "# creates the dataframe with the give columns\n",
    "dataframe = panda.DataFrame(list(date_expense_dict.items()), columns=['date', 'expenses'])\n",
    "\n",
    "dataframe"
   ],
   "id": "b6da8a14f962f65c",
   "outputs": [],
   "execution_count": null
  },
  {
   "metadata": {
    "ExecuteTime": {
     "end_time": "2024-07-29T21:43:40.264656Z",
     "start_time": "2024-07-29T21:43:40.262409Z"
    }
   },
   "cell_type": "code",
   "source": [
    "\n",
    "# calculates the average\n",
    "average = numpy.mean(dataframe['expenses'])\n"
   ],
   "id": "905beafe4215a55d",
   "outputs": [],
   "execution_count": 234
  },
  {
   "metadata": {},
   "cell_type": "markdown",
   "source": [
    "#### Graph\n",
    "Displays the graph with the given data and the current month"
   ],
   "id": "d61c7ba7a49041f9"
  },
  {
   "metadata": {},
   "cell_type": "code",
   "source": [
    "# Changes the size of the bars inside the plot\n",
    "plot.figure(figsize=(14, 8))\n",
    "\n",
    "# data of the x-axis/bar value is assigned as they need to be identical\n",
    "xdata = dataframe['expenses']\n",
    "\n",
    "# stores the bars inside the variable: how many, the actual values\n",
    "bars = plot.bar(range(len(dataframe['expenses'])), xdata)\n",
    "\n",
    "# creates the bars inside the diagram\n",
    "plot.bar(dataframe['date'], xdata, color='skyblue')\n",
    "\n",
    "# x: value of tick on an axis; pos: where the tick is located\n",
    "def currency_formatter(x, pos):\n",
    "    return f'{x:.0f}€'\n",
    "\n",
    "# get current axes (gca)\n",
    "plot.gca().yaxis.set_major_formatter(FuncFormatter(currency_formatter))\n",
    "\n",
    "for bar in bars:\n",
    "    y_axis_value = bar.get_height() # get the y-axis height which corresponds with the y value\n",
    "    # adds text annotation to the bar; left edge + center = center, y, value \n",
    "    plot.text(bar.get_x() + bar.get_width()/2, y_axis_value, f'{y_axis_value:.2f}€', ha='center', va='bottom')\n",
    "\n",
    "# change the x and y-bar label font size\n",
    "plot.tick_params(axis='both', labelsize=11)\n",
    "\n",
    "# axis Labels, font size and distance to the x bar labels\n",
    "plot.xlabel('Datum', fontsize=18, labelpad=16)\n",
    "plot.ylabel('Ausgaben', fontsize=18, labelpad=16)\n",
    "\n",
    "# Title\n",
    "plot.title(f'Ausgaben {current_month_name}', fontsize=20)\n",
    "\n",
    "# Rotate the x bar labels by some degree\n",
    "plot.xticks(rotation=45)\n",
    "\n",
    "#y: where to line will be drawn\n",
    "plot.axhline(y=average, color='red', linestyle='-', label=f'Average: {average:.2f}€')\n",
    "\n",
    "# \n",
    "plot.tight_layout()\n",
    "\n",
    "# displays a legend\n",
    "plot.legend()\n",
    "\n",
    "# Shows the plot\n",
    "plot.show()\n"
   ],
   "id": "ec39bcb42be82a7c",
   "outputs": [],
   "execution_count": null
  },
  {
   "metadata": {},
   "cell_type": "code",
   "source": [
    "sum = dataframe['expenses'].sum()\n",
    "\n",
    "print(f'Summe aller monatlichen Ausgaben: {sum:.2f}')"
   ],
   "id": "8d69accf8705f469",
   "outputs": [],
   "execution_count": null
  },
  {
   "metadata": {},
   "cell_type": "markdown",
   "source": [
    "## Alternative Approaches\n",
    "\n",
    "##### 1. create a boolean mask whether a value is nan\n",
    "\n",
    "boolean_mask = ~numpy.isnan(expenses)\n",
    "#####\n",
    "##### 2. remove any value that is nan\n",
    "\n",
    "expenses = [ exp for exp, valid in zip(expenses, boolean_mask) if valid ]\n",
    "dates = [ date for date, valid in zip(dates, boolean_mask) if valid ]\n",
    "'''\n"
   ],
   "id": "4c903a91c9c442c8"
  },
  {
   "metadata": {},
   "cell_type": "markdown",
   "source": "#### Get all the days in a month exercise",
   "id": "4af6526108d1633d"
  },
  {
   "metadata": {
    "ExecuteTime": {
     "end_time": "2024-07-29T21:47:54.303594Z",
     "start_time": "2024-07-29T21:47:54.300375Z"
    }
   },
   "cell_type": "code",
   "source": [
    "# Initializations\n",
    "i: int = 1\n",
    "dates = []\n",
    "\n",
    "# Create an array for the days of the month\n",
    "while i <= daysInCurrentMonth:\n",
    "    dates.append(f'{i}-{current_date.strftime(\"%m-%Y\")}')\n",
    "    i += 1\n",
    "    "
   ],
   "id": "eeb5b4a2204f615d",
   "outputs": [],
   "execution_count": 246
  },
  {
   "metadata": {},
   "cell_type": "markdown",
   "source": "#### User Input Exercise",
   "id": "98f47b0cea6c5868"
  },
  {
   "metadata": {},
   "cell_type": "code",
   "source": [
    "'''\n",
    "import sys\n",
    "\n",
    "from IPython.core.display_functions import clear_output\n",
    "\n",
    "userinput: str = ''\n",
    "spendingdata: list[float] = []\n",
    "\n",
    "\n",
    "#\n",
    "def getspendings() -> str:\n",
    "    global spendingdata\n",
    "    global userinput\n",
    "\n",
    "    # Get the user input\n",
    "    userinput = input('Gebe deine Ausgaben ein: ')\n",
    "\n",
    "    if userinput == 'end':\n",
    "        return userinput\n",
    "    else:\n",
    "        # try to int conversion\n",
    "        try:\n",
    "            userinput = float(userinput)\n",
    "        except ValueError:\n",
    "            clear_output(wait=True)\n",
    "            print('Please make sure the input is a number!')\n",
    "            sys.exit(1)\n",
    "\n",
    "    # validate the input\n",
    "    if type(userinput) is float:\n",
    "        \n",
    "        if daysInCurrentMonth <= len(spendingdata):\n",
    "            print('Done!')\n",
    "            return 'end'\n",
    "        \n",
    "        spendingdata.append(userinput)\n",
    "        print(f'Appended {userinput}')\n",
    "\n",
    "        return userinput\n",
    "    else:\n",
    "        clear_output(wait=True)\n",
    "        print('Something went wrong!')\n",
    "        sys.exit(1)\n",
    "\n",
    "\n",
    "while userinput != 'end':\n",
    "    userinput = getspendings()\n",
    "'''"
   ],
   "id": "4b059652571bc190",
   "outputs": [],
   "execution_count": null
  },
  {
   "metadata": {},
   "cell_type": "code",
   "source": "",
   "id": "f9345549cbe383bb",
   "outputs": [],
   "execution_count": null
  }
 ],
 "metadata": {
  "kernelspec": {
   "display_name": "Python 3",
   "language": "python",
   "name": "python3"
  },
  "language_info": {
   "codemirror_mode": {
    "name": "ipython",
    "version": 2
   },
   "file_extension": ".py",
   "mimetype": "text/x-python",
   "name": "python",
   "nbconvert_exporter": "python",
   "pygments_lexer": "ipython2",
   "version": "2.7.6"
  }
 },
 "nbformat": 4,
 "nbformat_minor": 5
}
